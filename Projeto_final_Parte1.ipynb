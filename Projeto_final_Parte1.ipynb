{
 "cells": [
  {
   "cell_type": "code",
   "execution_count": 1,
   "metadata": {},
   "outputs": [
    {
     "name": "stdout",
     "output_type": "stream",
     "text": [
      "Requirement already satisfied: pandas in c:\\users\\dbcle\\appdata\\local\\programs\\python\\python312\\lib\\site-packages (2.2.2)\n",
      "Requirement already satisfied: numpy>=1.26.0 in c:\\users\\dbcle\\appdata\\local\\programs\\python\\python312\\lib\\site-packages (from pandas) (1.26.4)\n",
      "Requirement already satisfied: python-dateutil>=2.8.2 in c:\\users\\dbcle\\appdata\\roaming\\python\\python312\\site-packages (from pandas) (2.9.0.post0)\n",
      "Requirement already satisfied: pytz>=2020.1 in c:\\users\\dbcle\\appdata\\local\\programs\\python\\python312\\lib\\site-packages (from pandas) (2024.1)\n",
      "Requirement already satisfied: tzdata>=2022.7 in c:\\users\\dbcle\\appdata\\local\\programs\\python\\python312\\lib\\site-packages (from pandas) (2024.1)\n",
      "Requirement already satisfied: six>=1.5 in c:\\users\\dbcle\\appdata\\roaming\\python\\python312\\site-packages (from python-dateutil>=2.8.2->pandas) (1.16.0)\n",
      "Note: you may need to restart the kernel to use updated packages.\n",
      "Requirement already satisfied: numpy in c:\\users\\dbcle\\appdata\\local\\programs\\python\\python312\\lib\\site-packages (1.26.4)\n",
      "Note: you may need to restart the kernel to use updated packages.\n",
      "Requirement already satisfied: requests in c:\\users\\dbcle\\appdata\\local\\programs\\python\\python312\\lib\\site-packages (2.32.2)\n",
      "Requirement already satisfied: charset-normalizer<4,>=2 in c:\\users\\dbcle\\appdata\\local\\programs\\python\\python312\\lib\\site-packages (from requests) (3.3.2)\n",
      "Requirement already satisfied: idna<4,>=2.5 in c:\\users\\dbcle\\appdata\\local\\programs\\python\\python312\\lib\\site-packages (from requests) (3.7)\n",
      "Requirement already satisfied: urllib3<3,>=1.21.1 in c:\\users\\dbcle\\appdata\\local\\programs\\python\\python312\\lib\\site-packages (from requests) (2.2.1)\n",
      "Requirement already satisfied: certifi>=2017.4.17 in c:\\users\\dbcle\\appdata\\local\\programs\\python\\python312\\lib\\site-packages (from requests) (2024.2.2)\n",
      "Note: you may need to restart the kernel to use updated packages.\n"
     ]
    }
   ],
   "source": [
    "%pip install pandas\n",
    "import pandas as pd\n",
    "\n",
    "%pip install numpy\n",
    "import numpy as np\n",
    "\n",
    "%pip install requests\n",
    "import requests\n",
    "\n",
    "import sqlite3\n",
    "from datetime import datetime"
   ]
  },
  {
   "cell_type": "markdown",
   "metadata": {},
   "source": [
    "### Alerta"
   ]
  },
  {
   "cell_type": "code",
   "execution_count": 2,
   "metadata": {},
   "outputs": [
    {
     "name": "stdout",
     "output_type": "stream",
     "text": [
      "Requirement already satisfied: plyer in c:\\users\\dbcle\\appdata\\local\\programs\\python\\python312\\lib\\site-packages (2.1.0)\n",
      "Note: you may need to restart the kernel to use updated packages.\n"
     ]
    }
   ],
   "source": [
    "%pip install plyer\n",
    "from plyer import notification\n",
    "\n",
    "def alerta(nivel, base, etapa):\n",
    "    if etapa == \"inicio\": # Para o incio do processo da pipeline\n",
    "        title = \"Pipeline ETL Iniciado\"\n",
    "        message = \"Iniciando\"\n",
    "\n",
    "    elif etapa == \"fim\": # Para o fim do processo da pipeline\n",
    "        title = \"Pipeline ETL Concluído\"\n",
    "        message = \"Finalizado\"\n",
    "        \n",
    "    elif nivel == 0:\n",
    "        title = \"Etapa Concluída\"\n",
    "        message = f\"{etapa} da {base} concluída com sucesso.\"\n",
    "        \n",
    "    elif nivel == 1:\n",
    "        title = \"Alerta Baixo\"\n",
    "        message = f\"Falha no carregamento {base} na etapa {etapa}\"\n",
    "\n",
    "    elif nivel == 2:\n",
    "        title = \"Alerta Moderado\"\n",
    "        message = f\"Falha no carregamento {base} na etapa {etapa}\"\n",
    "    \n",
    "    elif nivel == 3:\n",
    "        title = \"Alerta Alto\"\n",
    "        message = f\"Falha no carregamento {base} na etapa {etapa}\"\n",
    "\n",
    "    else:\n",
    "        title = \"Alerta desconhecido\" #Para situaçao de nivel de alerta fora do proposto.\n",
    "        message = f\"Nivel de alerta desconhecido ({nivel}) para {base} na etapa {etapa}\"\n",
    "\n",
    "    notification.notify(\n",
    "        title=title,\n",
    "        message=message,\n",
    "        app_name = \"Projeto Final\",\n",
    "        timeout=10\n",
    "    )\n",
    "\n",
    "\n",
    "#adicionar a funcao alerta(nivel, base, etapa) em cada etapa"
   ]
  },
  {
   "cell_type": "markdown",
   "metadata": {},
   "source": [
    "### 1 Extração API"
   ]
  },
  {
   "cell_type": "code",
   "execution_count": 3,
   "metadata": {},
   "outputs": [],
   "source": [
    "#def get_json_api(url): #funçao comentada para rodar automaticamente. Alterar para a funçao ser chamada em parte do codigo\n",
    "    #'''\n",
    "    #    Request GET url e retorna json de saida\n",
    "    #'''\n",
    "etapa = \"Extraçao\"\n",
    "base = \"API\"\n",
    "\n",
    "try:\n",
    "    response = requests.get(url = \"https://brasilapi.com.br/api/banks/v1\")\n",
    "\n",
    "    if response.status_code == 200:\n",
    "        data_json = response.json()\n",
    "        alerta(0,base,etapa) #Sucesso na etapa de extracao da API\n",
    "        data_json\n",
    "        #return data_json #caso inserido como funçao\n",
    "    \n",
    "    # Erro\n",
    "    else:\n",
    "        alerta(2,base,etapa) #Falha na etapa de extracao da API\n",
    "        raise Exception(f\"erro request,  {response.status_code} - {url}\\n{response.text}\")\n",
    "\n",
    "except Exception as e:\n",
    "    alerta(3,base,etapa) #erro critico na etapa\n",
    "    raise e\n",
    "    "
   ]
  },
  {
   "cell_type": "markdown",
   "metadata": {},
   "source": [
    "### 1.1 Base Brasil Banks_url"
   ]
  },
  {
   "cell_type": "code",
   "execution_count": 4,
   "metadata": {},
   "outputs": [
    {
     "data": {
      "text/plain": [
       "200"
      ]
     },
     "execution_count": 4,
     "metadata": {},
     "output_type": "execute_result"
    }
   ],
   "source": [
    "df = pd.DataFrame()\n",
    "url = \"https://brasilapi.com.br/api/banks/v1\"\n",
    "response = requests.get (url)\n",
    "response.status_code"
   ]
  },
  {
   "cell_type": "code",
   "execution_count": 5,
   "metadata": {},
   "outputs": [],
   "source": [
    "if response.status_code == 200:\n",
    "    data_json = response.json()\n",
    "else: \n",
    "    print (\"erro ao acessar a API\")"
   ]
  },
  {
   "cell_type": "code",
   "execution_count": 6,
   "metadata": {},
   "outputs": [],
   "source": [
    "#data_json"
   ]
  },
  {
   "cell_type": "code",
   "execution_count": 7,
   "metadata": {},
   "outputs": [
    {
     "data": {
      "text/plain": [
       "Index(['ispb', 'name', 'code', 'fullName'], dtype='object')"
      ]
     },
     "execution_count": 7,
     "metadata": {},
     "output_type": "execute_result"
    }
   ],
   "source": [
    "banks_full = pd.DataFrame(data_json)\n",
    "#banks_full.head(60)\n",
    "\n",
    "banks_full.columns"
   ]
  },
  {
   "cell_type": "code",
   "execution_count": 10,
   "metadata": {},
   "outputs": [],
   "source": [
    "ispb = [ispb for ispb in banks_full['ispb']]\n",
    "name =[name for name in banks_full['name']]\n",
    "Code = [code for code in banks_full['code']]\n",
    "fulname = [fn for fn in banks_full ['fullName']]\n",
    "fulname = [fn for fn in banks_full ['fullName']]"
   ]
  },
  {
   "cell_type": "markdown",
   "metadata": {},
   "source": [
    "### Tabela 1 - ISPB E NAME"
   ]
  },
  {
   "cell_type": "code",
   "execution_count": 11,
   "metadata": {},
   "outputs": [],
   "source": [
    "base = \"tabelas ISPB e Name\"\n",
    "etapa = \"Extraçao\"\n",
    "\n",
    "try:\n",
    "    banks_full= pd.DataFrame ({'ispb':ispb, 'name': name})\n",
    "    banks_full = pd.DataFrame (banks_full)\n",
    "    \n",
    "    alerta(0,base,etapa) # Sucesso na etapa de extracao\n",
    "\n",
    "    #banks_full\n",
    "    #banks_full.head(60)\n",
    "except Exception as e:\n",
    "    alerta(2,base,etapa) #falha na extraçao"
   ]
  },
  {
   "cell_type": "markdown",
   "metadata": {},
   "source": [
    "### TABELA 2 - CODE & FULLNAME"
   ]
  },
  {
   "cell_type": "code",
   "execution_count": 12,
   "metadata": {},
   "outputs": [],
   "source": [
    "base = \"tabelas Code e FullName\"\n",
    "etapa = \"Extraçao\"\n",
    "\n",
    "try:\n",
    "    banks_full= pd.DataFrame ({'code':Code, 'fulname':fulname})\n",
    "    banks_full = pd.DataFrame (banks_full)\n",
    "    alerta(0,base,etapa) # Sucesso na etapa de extracao\n",
    "\n",
    "    #banks_full\n",
    "    #banks_full.head(60)\n",
    "\n",
    "except Exception as e:\n",
    "    alerta(2,base,etapa) #falha na extraçao\n"
   ]
  },
  {
   "cell_type": "markdown",
   "metadata": {},
   "source": [
    "### TABELA 3 - ISPB & CODE"
   ]
  },
  {
   "cell_type": "code",
   "execution_count": 13,
   "metadata": {},
   "outputs": [],
   "source": [
    "base = \"tabelas ISPB e Code\"\n",
    "etapa = \"Extraçao\"\n",
    "\n",
    "try:\n",
    "    banks_full= pd.DataFrame ({'ispb':ispb, 'code': Code})\n",
    "    banks_full = pd.DataFrame (banks_full)\n",
    "    alerta(0,base,etapa) # Sucesso na etapa de extracao\n",
    "\n",
    "    #banks_full\n",
    "    #banks_full.head(60)\n",
    "    \n",
    "except Exception as e:\n",
    "    alerta(2,base,etapa) #falha na extraçao\n"
   ]
  },
  {
   "cell_type": "code",
   "execution_count": 14,
   "metadata": {},
   "outputs": [],
   "source": [
    "\n",
    "conn = sqlite3.connect('Projeto.db')\n",
    "\n",
    "banks_full.to_sql('banks_full', conn, if_exists='replace', index=False)\n",
    "\n",
    "conn.close()\n"
   ]
  }
 ],
 "metadata": {
  "kernelspec": {
   "display_name": "Python 3",
   "language": "python",
   "name": "python3"
  },
  "language_info": {
   "codemirror_mode": {
    "name": "ipython",
    "version": 3
   },
   "file_extension": ".py",
   "mimetype": "text/x-python",
   "name": "python",
   "nbconvert_exporter": "python",
   "pygments_lexer": "ipython3",
   "version": "3.12.3"
  }
 },
 "nbformat": 4,
 "nbformat_minor": 2
}
